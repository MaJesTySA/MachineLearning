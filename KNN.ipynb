{
 "cells": [
  {
   "cell_type": "code",
   "execution_count": 1,
   "metadata": {},
   "outputs": [],
   "source": [
    "import pandas as pd\n",
    "import numpy as np\n",
    "\n",
    "from sklearn.model_selection import train_test_split\n",
    "from sklearn.preprocessing import StandardScaler\n",
    "from sklearn.neighbors import KNeighborsClassifier\n",
    "from sklearn.metrics import confusion_matrix\n",
    "from sklearn.metrics import f1_score\n",
    "from sklearn.metrics import accuracy_score"
   ]
  },
  {
   "cell_type": "code",
   "execution_count": 2,
   "metadata": {},
   "outputs": [
    {
     "name": "stdout",
     "output_type": "stream",
     "text": [
      "   Pregnancies  Glucose  BloodPressure  SkinThickness  Insulin   BMI  \\\n",
      "0            6      148             72             35        0  33.6   \n",
      "1            1       85             66             29        0  26.6   \n",
      "2            8      183             64              0        0  23.3   \n",
      "3            1       89             66             23       94  28.1   \n",
      "4            0      137             40             35      168  43.1   \n",
      "\n",
      "   DiabetesPedigreeFunction  Age  Outcome  \n",
      "0                     0.627   50        1  \n",
      "1                     0.351   31        0  \n",
      "2                     0.672   32        1  \n",
      "3                     0.167   21        0  \n",
      "4                     2.288   33        1  \n"
     ]
    }
   ],
   "source": [
    "dataset=pd.read_csv('../data/diabetes.csv')\n",
    "print(dataset.head())"
   ]
  },
  {
   "cell_type": "code",
   "execution_count": 3,
   "metadata": {},
   "outputs": [],
   "source": [
    "zero_not_accepted=['Glucose','BloodPressure','SkinThickness','Insulin','BMI']\n",
    "for column in zero_not_accepted:\n",
    "    dataset[column]=dataset[column].replace(0,np.NaN)\n",
    "    mean=int(dataset[column].mean(skipna=True))\n",
    "    dataset[column]=dataset[column].replace(np.NaN,mean) "
   ]
  },
  {
   "cell_type": "code",
   "execution_count": 4,
   "metadata": {},
   "outputs": [
    {
     "name": "stderr",
     "output_type": "stream",
     "text": [
      "D:\\Anaconda3\\lib\\site-packages\\sklearn\\preprocessing\\data.py:645: DataConversionWarning: Data with input dtype int64, float64 were all converted to float64 by StandardScaler.\n",
      "  return self.partial_fit(X, y)\n",
      "D:\\Anaconda3\\lib\\site-packages\\sklearn\\base.py:464: DataConversionWarning: Data with input dtype int64, float64 were all converted to float64 by StandardScaler.\n",
      "  return self.fit(X, **fit_params).transform(X)\n",
      "D:\\Anaconda3\\lib\\site-packages\\ipykernel_launcher.py:6: DataConversionWarning: Data with input dtype int64, float64 were all converted to float64 by StandardScaler.\n",
      "  \n"
     ]
    }
   ],
   "source": [
    "X=dataset.iloc[:,0:8]\n",
    "y=dataset.iloc[:,8]\n",
    "X_train,X_test,y_train,y_test=train_test_split(X,y,random_state=0,test_size=0.2)\n",
    "X_sc=StandardScaler()\n",
    "X_train=X_sc.fit_transform(X_train)\n",
    "X_test=X_sc.transform(X_test)"
   ]
  },
  {
   "cell_type": "code",
   "execution_count": 5,
   "metadata": {},
   "outputs": [
    {
     "name": "stdout",
     "output_type": "stream",
     "text": [
      "confusion matrix:\n",
      " [[94 13]\n",
      " [15 32]]\n",
      "f1 score: 0.6956521739130436\n",
      "accuracy : 0.8181818181818182\n"
     ]
    }
   ],
   "source": [
    "###SKlearn KNN \n",
    "clf=KNeighborsClassifier(n_neighbors=11,p=2,metric='euclidean')\n",
    "clf.fit(X_train,y_train)\n",
    "y_pred=clf.predict(X_test)\n",
    "cm=confusion_matrix(y_test,y_pred)\n",
    "print(\"confusion matrix:\\n\",cm)\n",
    "f1=f1_score(y_test,y_pred)\n",
    "print(\"f1 score:\",f1)\n",
    "acc=accuracy_score(y_test,y_pred)\n",
    "print(\"accuracy :\",acc)"
   ]
  },
  {
   "cell_type": "code",
   "execution_count": 6,
   "metadata": {},
   "outputs": [
    {
     "name": "stdout",
     "output_type": "stream",
     "text": [
      "0.8827361563517915\n"
     ]
    }
   ],
   "source": [
    "###My KNN\n",
    "K=11\n",
    "def KNN(X_train,y_train,X_test,K,classes):\n",
    "    y_pred=np.zeros((X_test.shape[0],1))\n",
    "    for i in range(X_test.shape[0]):\n",
    "        dist=np.sqrt(np.sum(np.square(X_test[i]-X_train),axis=1))\n",
    "        idxs=np.argsort(-dist.flatten())[:K]\n",
    "        count=np.zeros((classes,1))\n",
    "        for idx in idxs:\n",
    "            for p in range(classes):\n",
    "                if y_train.iloc[idx]==p:\n",
    "                    count[p]+=1\n",
    "        y_pred[i]=np.argmax(count)\n",
    "    return y_pred\n",
    "y_pred=KNN(X_train,y_train,X_train,13,2)\n",
    "print(np.mean(y_pred==y_test.iloc[0]+0))"
   ]
  },
  {
   "cell_type": "code",
   "execution_count": 7,
   "metadata": {},
   "outputs": [
    {
     "name": "stdout",
     "output_type": "stream",
     "text": [
      "5\n"
     ]
    }
   ],
   "source": [
    "def findBestK(KNN,X_train,y_train,X_test,classes):\n",
    "    acc=np.zeros((100,1))\n",
    "    for k in range(100):\n",
    "        y_pred=KNN(X_train,y_train,X_test,k,classes)\n",
    "        acc[k]=np.mean(y_pred==y_test.iloc[0]+0)\n",
    "    bestK=np.argmax(acc)\n",
    "    return bestK   \n",
    "bestK=findBestK(KNN,X_train,y_train,X_test,classes=2)\n",
    "print(bestK)"
   ]
  }
 ],
 "metadata": {
  "kernelspec": {
   "display_name": "Python 3",
   "language": "python",
   "name": "python3"
  },
  "language_info": {
   "codemirror_mode": {
    "name": "ipython",
    "version": 3
   },
   "file_extension": ".py",
   "mimetype": "text/x-python",
   "name": "python",
   "nbconvert_exporter": "python",
   "pygments_lexer": "ipython3",
   "version": "3.7.3"
  }
 },
 "nbformat": 4,
 "nbformat_minor": 2
}
