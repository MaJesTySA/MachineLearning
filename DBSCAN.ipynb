{
 "cells": [
  {
   "cell_type": "code",
   "execution_count": 1,
   "metadata": {},
   "outputs": [],
   "source": [
    "import numpy as np \n",
    "import pandas as pd \n",
    "import matplotlib.pyplot as plt"
   ]
  },
  {
   "cell_type": "code",
   "execution_count": 2,
   "metadata": {},
   "outputs": [],
   "source": [
    "data=pd.read_csv('data\\watermelon.csv',header=None)\n",
    "data=data.values"
   ]
  },
  {
   "cell_type": "code",
   "execution_count": 56,
   "metadata": {},
   "outputs": [],
   "source": [
    "class DBSCAN():\n",
    "    def __init__(self,epsilon,MinPts):\n",
    "        self.epsilon=epsilon\n",
    "        self.MinPts=MinPts\n",
    "        ###距离矩阵\n",
    "        self.dist=0\n",
    "        ###所有簇集合\n",
    "        self.k_clusters=[]\n",
    "        ###核心点\n",
    "        self.CorePts=np.array([],dtype=int)\n",
    "        ###当前样本\n",
    "        self.Samples=0\n",
    "        ###当前簇\n",
    "        self.clusters=0\n",
    "    \n",
    "    ###用来一直往下找核心点\n",
    "    def findDensity(self,point):\n",
    "        ###将该核心点从核心点集合去掉\n",
    "        self.CorePts=np.setdiff1d(self.CorePts,point)\n",
    "        ###找到该核心点的密度直达点，与样本取交集，即防止点被重复聚类\n",
    "        densityPts=np.where((self.dist[int(point)]<self.epsilon)==True)[0]\n",
    "        densityPts=np.intersect1d(densityPts,self.Samples)\n",
    "        ###找到密度直达点中的核心点\n",
    "        IntersecCorePts=np.intersect1d(self.CorePts,densityPts)\n",
    "        ###将这些点添加进目前的簇\n",
    "        self.clusters=np.append(self.clusters,densityPts)\n",
    "        self.clusters=np.unique(self.clusters)\n",
    "        ###将这些点从样本中移除\n",
    "        self.Samples=np.setdiff1d(self.Samples,self.clusters)\n",
    "        ###从该点邻域的核心点出发，只要还能找得到核心点，就一直往下找\n",
    "        if len(IntersecCorePts)!=0:\n",
    "            for IntersecCore in IntersecCorePts:\n",
    "                self.findDensity(IntersecCore)\n",
    "        return self.clusters\n",
    "    \n",
    "    def fit(self,data):\n",
    "        m=data.shape[0]\n",
    "        self.dist=np.zeros((m,m))\n",
    "        self.Samples=np.arange(m)\n",
    "        for datum,idx in zip(data,range(m)):\n",
    "            self.dist[idx]=np.sqrt(np.sum(np.square(datum-data),axis=1))\n",
    "            ###加入核心点\n",
    "            if (np.sum(self.dist[idx]<=self.epsilon)) >= self.MinPts:\n",
    "                self.CorePts=np.append(self.CorePts,idx)\n",
    "        ###只要核心点集合不为空，一直找\n",
    "        while(len(self.CorePts)!=0):\n",
    "            self.clusters=np.array([],dtype=int)\n",
    "            c=self.findDensity(np.random.choice(self.CorePts))\n",
    "            self.k_clusters.append(c)\n",
    "        return self.k_clusters        "
   ]
  },
  {
   "cell_type": "code",
   "execution_count": null,
   "metadata": {},
   "outputs": [],
   "source": [
    "model=DBSCAN(0.11,5)\n",
    "k_clusters=model.fit(data)\n",
    "\n",
    "plt.scatter(data[k_clusters[0]][:,0],data[k_clusters[0]][:,1],marker='x',color='gray',label='cluster 1')\n",
    "plt.scatter(data[k_clusters[1]][:,0],data[k_clusters[1]][:,1],marker='o',color='green',label='cluster 2')   \n",
    "plt.scatter(data[k_clusters[2]][:,0],data[k_clusters[2]][:,1],marker='v',color='blue',label='cluster 3')\n",
    "plt.scatter(data[k_clusters[3]][:,0],data[k_clusters[3]][:,1],marker='^',color='black',label='cluster 4')\n",
    "\n",
    "plt.scatter(data[10][0],data[10][1],marker='*',color='red',label='anormaly')\n",
    "plt.scatter(data[14][0],data[14][1],marker='*',color='red')\n",
    "plt.legend(frameon=False)"
   ]
  },
  {
   "cell_type": "code",
   "execution_count": 57,
   "metadata": {},
   "outputs": [
    {
     "data": {
      "text/plain": [
       "<matplotlib.collections.PathCollection at 0x218e40ca080>"
      ]
     },
     "execution_count": 57,
     "metadata": {},
     "output_type": "execute_result"
    },
    {
     "data": {
      "image/png": "[encoded data removed]",
      "text/plain": [
       "<Figure size 432x288 with 1 Axes>"
      ]
     },
     "metadata": {
      "needs_background": "light"
     },
     "output_type": "display_data"
    }
   ],
   "source": [
    "from sklearn.datasets import make_blobs\n",
    "X,y=make_blobs(n_samples=200,centers=5,cluster_std=.7,random_state=6)\n",
    "plt.scatter(X[:,0],X[:,1])"
   ]
  },
  {
   "cell_type": "code",
   "execution_count": 44,
   "metadata": {},
   "outputs": [],
   "source": [
    "model1=DBSCAN(0.75,5)\n",
    "cluster=model1.fit(X)"
   ]
  },
  {
   "cell_type": "code",
   "execution_count": 51,
   "metadata": {},
   "outputs": [
    {
     "name": "stdout",
     "output_type": "stream",
     "text": [
      "[ 14  39  71  76  80  88 125 128 134 136 148 149 189]\n"
     ]
    }
   ],
   "source": [
    "sk_clusters=np.array([],dtype=int)\n",
    "for i in range(5):\n",
    "    sk_clusters=np.append(sk_clusters,cluster[i])\n",
    "anomoly_point=np.setdiff1d(np.arange(200),sk_clusters)\n",
    "for i in range(5):\n",
    "    plt.scatter(X[cluster[i]][:,0],X[cluster[i]][:,1])\n",
    "plt.scatter(X[anomoly_point][:,0],X[anomoly_point][:,1],marker='x',s=100)"
   ]
  },
  {
   "cell_type": "code",
   "execution_count": 55,
   "metadata": {},
   "outputs": [
    {
     "data": {
      "text/plain": [
       "<matplotlib.collections.PathCollection at 0x218e3c63550>"
      ]
     },
     "execution_count": 55,
     "metadata": {},
     "output_type": "execute_result"
    },
    {
     "data": {
      "image/png": "[encoded data removed]",
      "text/plain": [
       "<Figure size 432x288 with 1 Axes>"
      ]
     },
     "metadata": {
      "needs_background": "light"
     },
     "output_type": "display_data"
    }
   ],
   "source": []
  }
 ],
 "metadata": {
  "kernelspec": {
   "display_name": "Python 3",
   "language": "python",
   "name": "python3"
  },
  "language_info": {
   "codemirror_mode": {
    "name": "ipython",
    "version": 3
   },
   "file_extension": ".py",
   "mimetype": "text/x-python",
   "name": "python",
   "nbconvert_exporter": "python",
   "pygments_lexer": "ipython3",
   "version": "3.6.7"
  }
 },
 "nbformat": 4,
 "nbformat_minor": 2
}
